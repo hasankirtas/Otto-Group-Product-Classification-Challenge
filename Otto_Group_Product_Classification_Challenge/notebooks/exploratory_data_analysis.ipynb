{
 "cells": [
  {
   "cell_type": "code",
   "execution_count": null,
   "id": "e5fc094d-3826-4f9f-8f5c-8f49e38bf04d",
   "metadata": {},
   "outputs": [],
   "source": [
    "import pandas as pd \n",
    "sys.path.append('../src')  \n",
    "from data_preprocessing import plot_class_distribution, calculate_vif\n",
    "\n",
    "train_data_raw = pd.read_csv('../data/raw/train.csv')\n",
    "train_data = train_data_raw.copy()"
   ]
  },
  {
   "cell_type": "code",
   "execution_count": null,
   "id": "4d2be127-f771-4659-ab01-2e3c9bd1754a",
   "metadata": {},
   "outputs": [],
   "source": [
    "train_data.isnull().sum()"
   ]
  },
  {
   "cell_type": "code",
   "execution_count": null,
   "id": "85e56a85-56fd-4a63-b9d9-48688cb67d03",
   "metadata": {},
   "outputs": [],
   "source": [
    "train_data['target'].value_counts()"
   ]
  },
  {
   "cell_type": "code",
   "execution_count": null,
   "id": "669f61cf-558c-426c-a75e-a5e3fb7b53fa",
   "metadata": {},
   "outputs": [],
   "source": [
    "plot_class_distribution(train_data['target'].value_counts().to_dict(), figsize=(16, 8))"
   ]
  },
  {
   "cell_type": "code",
   "execution_count": null,
   "id": "03d5b09e-5bf8-4e5d-964a-cdd46be3104c",
   "metadata": {},
   "outputs": [],
   "source": [
    "calculate_vif(X)"
   ]
  }
 ],
 "metadata": {
  "kernelspec": {
   "display_name": "Python 3 (ipykernel)",
   "language": "python",
   "name": "python3"
  },
  "language_info": {
   "codemirror_mode": {
    "name": "ipython",
    "version": 3
   },
   "file_extension": ".py",
   "mimetype": "text/x-python",
   "name": "python",
   "nbconvert_exporter": "python",
   "pygments_lexer": "ipython3",
   "version": "3.12.7"
  }
 },
 "nbformat": 4,
 "nbformat_minor": 5
}
